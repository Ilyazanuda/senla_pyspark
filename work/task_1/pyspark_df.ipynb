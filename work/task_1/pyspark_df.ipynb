{
 "cells": [
  {
   "cell_type": "code",
   "execution_count": 1,
   "id": "63d528b9-954e-4ea1-bb67-95202a815158",
   "metadata": {},
   "outputs": [],
   "source": [
    "# import libs\n",
    "from pyspark import SparkContext\n",
    "from pyspark.sql import SparkSession\n",
    "from pyspark.sql.types import DecimalType\n",
    "from pyspark.sql.window import Window\n",
    "from pyspark.sql.functions import lit, when, col, count\n",
    "import pyspark.sql.functions as func\n",
    "from datetime import datetime"
   ]
  },
  {
   "cell_type": "code",
   "execution_count": 6,
   "id": "4980968e-c6c9-494a-9f5d-b9c3c49073e5",
   "metadata": {},
   "outputs": [
    {
     "name": "stdin",
     "output_type": "stream",
     "text": [
      "Enter date like \"2019-12-31\":  2019-12-31\n"
     ]
    }
   ],
   "source": [
    "# paths and part_date\n",
    "articles_path = '../data/articles.csv'\n",
    "customers_path = '../data/customers.csv'\n",
    "transactions_train_path = '../data/transactions_train.csv'\n",
    "output_path = 'output_csv'\n",
    "part_date = datetime.strptime(input('Enter date like \"2019-12-31\": '), '%Y-%m-%d')"
   ]
  },
  {
   "cell_type": "code",
   "execution_count": 3,
   "id": "3b42fdca-7474-4386-920c-ac57b89ecee9",
   "metadata": {},
   "outputs": [],
   "source": [
    "# create spark session\n",
    "spark = SparkSession(SparkContext())"
   ]
  },
  {
   "cell_type": "code",
   "execution_count": 8,
   "id": "4760daa4-546b-4a49-a4a3-9aad6d287b10",
   "metadata": {
    "scrolled": true
   },
   "outputs": [],
   "source": [
    "# read csv files\n",
    "articles_raw = spark.read.csv(articles_path, header=True)\n",
    "customers_raw = spark.read.csv(customers_path, header=True)\n",
    "transactions_train_raw = spark.read.csv(transactions_train_path, header=True)"
   ]
  },
  {
   "cell_type": "code",
   "execution_count": 10,
   "id": "14e77210-3761-4847-b30d-c43fef1c6bef",
   "metadata": {
    "scrolled": true
   },
   "outputs": [],
   "source": [
    "# current month transactions\n",
    "transactions_train_df = transactions_train_raw.filter((func.year(transactions_train_raw['t_dat']) == part_date.year) &\n",
    "                                                      (func.month(transactions_train_raw['t_dat']) == part_date.month)) \\\n",
    "                                              .join(articles_raw, 'article_id', 'left') \\\n",
    "                                              .withColumn('row_num', func.monotonically_increasing_id()) \\\n",
    "                                              .withColumn('price', col('price').cast(DecimalType(38, 20))) \\\n",
    "                                              .select('t_dat', 'customer_id', 'article_id', 'price', 'product_group_name', 'row_num')"
   ]
  },
  {
   "cell_type": "code",
   "execution_count": 11,
   "id": "858e20bf-1268-4783-bde2-8c0f273cfc33",
   "metadata": {
    "scrolled": true
   },
   "outputs": [],
   "source": [
    "window_most_exp_art = Window.partitionBy('customer_id').orderBy(func.desc('price'), 'row_num')\n",
    "most_exp_articles_df = transactions_train_df.withColumn('row_number', func.row_number().over(window_most_exp_art)) \\\n",
    "                                            .filter(col('row_number') == 1) \\\n",
    "                                            .select('customer_id', 'article_id') \\\n",
    "                                            .withColumnRenamed('article_id', 'most_exp_article_id')\n",
    "# most_exp_articles_df.show()"
   ]
  },
  {
   "cell_type": "code",
   "execution_count": 12,
   "id": "995315fb-1104-4744-9d40-f6ab604255e5",
   "metadata": {},
   "outputs": [],
   "source": [
    "number_of_product_groups_df = transactions_train_df.select('customer_id', 'product_group_name') \\\n",
    "                                                   .groupBy('customer_id', 'product_group_name') \\\n",
    "                                                   .count() \\\n",
    "                                                   .groupBy('customer_id') \\\n",
    "                                                   .agg(count('product_group_name').alias('number_of_product_groups'))\n",
    "# number_of_product_groups_df.show()"
   ]
  },
  {
   "cell_type": "code",
   "execution_count": 13,
   "id": "794e2e92-ad69-4617-af2c-fefa0cb1ce8e",
   "metadata": {},
   "outputs": [],
   "source": [
    "grouped_transactions_df = transactions_train_df.select('customer_id', 'price') \\\n",
    "                                               .groupBy('customer_id') \\\n",
    "                                               .agg(func.sum('price').alias('transaction_amount'), func.count('price').alias('number_of_articles'))\n",
    "# grouped_transactions_df.show()"
   ]
  },
  {
   "cell_type": "code",
   "execution_count": 14,
   "id": "509d483c-b689-443d-905d-531e286e9412",
   "metadata": {},
   "outputs": [],
   "source": [
    "result_df = grouped_transactions_df.join(number_of_product_groups_df, 'customer_id', 'left') \\\n",
    "                                   .join(most_exp_articles_df, 'customer_id', 'left') \\\n",
    "                                   .join(customers_raw, 'customer_id', 'left') \\\n",
    "                                   .withColumn('customer_group_by_age', when(col('age') < 23, 'S') \\\n",
    "                                                                       .when(col('age') > 59, 'R') \\\n",
    "                                                                       .otherwise('A')) \\\n",
    "                                   .withColumn('part_date', func.lit(datetime.strftime(part_date, '%Y-%m'))) \\\n",
    "                                   .select('part_date', 'customer_id', 'customer_group_by_age', 'transaction_amount', 'most_exp_article_id', 'number_of_articles', 'number_of_product_groups')\n",
    "result_df.write \\\n",
    "         .mode('overwrite') \\\n",
    "         .option('header', 'True') \\\n",
    "         .option('delimiter', ',') \\\n",
    "         .csv(output_path)"
   ]
  },
  {
   "cell_type": "code",
   "execution_count": null,
   "id": "4b24c839-9e7d-423e-a7ee-6469cc2c28b3",
   "metadata": {},
   "outputs": [],
   "source": []
  }
 ],
 "metadata": {
  "kernelspec": {
   "display_name": "Python 3 (ipykernel)",
   "language": "python",
   "name": "python3"
  },
  "language_info": {
   "codemirror_mode": {
    "name": "ipython",
    "version": 3
   },
   "file_extension": ".py",
   "mimetype": "text/x-python",
   "name": "python",
   "nbconvert_exporter": "python",
   "pygments_lexer": "ipython3",
   "version": "3.11.5"
  }
 },
 "nbformat": 4,
 "nbformat_minor": 5
}

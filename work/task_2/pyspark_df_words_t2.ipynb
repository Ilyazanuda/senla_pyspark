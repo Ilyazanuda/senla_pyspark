{
 "cells": [
  {
   "cell_type": "code",
   "execution_count": 11,
   "id": "63d528b9-954e-4ea1-bb67-95202a815158",
   "metadata": {},
   "outputs": [],
   "source": [
    "# import libs\n",
    "from pyspark.sql.functions import split, explode, concat_ws, regexp_replace, lead, col, monotonically_increasing_id\n",
    "from pyspark.sql import Window\n",
    "from pyspark.sql.types import StringType\n",
    "from pyspark.sql import SparkSession\n",
    "import zipfile\n",
    "import re"
   ]
  },
  {
   "cell_type": "code",
   "execution_count": 12,
   "id": "4980968e-c6c9-494a-9f5d-b9c3c49073e5",
   "metadata": {},
   "outputs": [],
   "source": [
    "# paths and part_date\n",
    "archive_path = '../data/archive.zip'"
   ]
  },
  {
   "cell_type": "code",
   "execution_count": 13,
   "id": "3b42fdca-7474-4386-920c-ac57b89ecee9",
   "metadata": {},
   "outputs": [],
   "source": [
    "# create spark session\n",
    "spark = SparkSession.builder.appName(\"WordCount\").getOrCreate()"
   ]
  },
  {
   "cell_type": "code",
   "execution_count": 14,
   "id": "4760daa4-546b-4a49-a4a3-9aad6d287b10",
   "metadata": {
    "scrolled": true
   },
   "outputs": [],
   "source": [
    "# create text string with all text from .txt files\n",
    "text_string = \"\"\n",
    "\n",
    "with zipfile.ZipFile(archive_path, 'r') as zip_file:\n",
    "    for name in zip_file.namelist():\n",
    "        if name.endswith('.txt'):\n",
    "            text_string += re.sub(r'\\s+|\\n', ' ', zip_file.read(name).decode(\"utf-8\")).lower()"
   ]
  },
  {
   "cell_type": "code",
   "execution_count": 15,
   "id": "4b24c839-9e7d-423e-a7ee-6469cc2c28b3",
   "metadata": {},
   "outputs": [
    {
     "name": "stdout",
     "output_type": "stream",
     "text": [
      "+--------------------+\n",
      "|               value|\n",
      "+--------------------+\n",
      "|﻿eighteen years e...|\n",
      "+--------------------+\n",
      "\n"
     ]
    }
   ],
   "source": [
    "# create dataframe\n",
    "words_df = spark.createDataFrame([text_string], StringType())\n",
    "\n",
    "words_df.show()"
   ]
  },
  {
   "cell_type": "code",
   "execution_count": 16,
   "id": "7941b38c-08d4-43fc-8a9a-f299eea4e1de",
   "metadata": {},
   "outputs": [
    {
     "name": "stdout",
     "output_type": "stream",
     "text": [
      "+--------+\n",
      "|    word|\n",
      "+--------+\n",
      "|eighteen|\n",
      "|   years|\n",
      "|eighteen|\n",
      "|   years|\n",
      "|     she|\n",
      "|     got|\n",
      "|     one|\n",
      "|      of|\n",
      "|    your|\n",
      "|    kids|\n",
      "|     got|\n",
      "|     you|\n",
      "|     for|\n",
      "|eighteen|\n",
      "|   years|\n",
      "|       i|\n",
      "|    know|\n",
      "|somebody|\n",
      "|  paying|\n",
      "|   child|\n",
      "+--------+\n",
      "only showing top 20 rows\n",
      "\n"
     ]
    }
   ],
   "source": [
    "# removes extra characters and splits the string into words\n",
    "words_df = words_df.select(explode(split(regexp_replace(\"value\", r\"[^a-zA-Z\\s']\", \"\"), \" \")).alias(\"word\"))\n",
    "\n",
    "words_df.show()"
   ]
  },
  {
   "cell_type": "code",
   "execution_count": 17,
   "id": "49cf08d1-e9ec-46ec-8b3f-52289338ffba",
   "metadata": {},
   "outputs": [
    {
     "name": "stdout",
     "output_type": "stream",
     "text": [
      "+---------------+\n",
      "|         bigram|\n",
      "+---------------+\n",
      "| eighteen years|\n",
      "| years eighteen|\n",
      "| eighteen years|\n",
      "|      years she|\n",
      "|        she got|\n",
      "|        got one|\n",
      "|         one of|\n",
      "|        of your|\n",
      "|      your kids|\n",
      "|       kids got|\n",
      "|        got you|\n",
      "|        you for|\n",
      "|   for eighteen|\n",
      "| eighteen years|\n",
      "|        years i|\n",
      "|         i know|\n",
      "|  know somebody|\n",
      "|somebody paying|\n",
      "|   paying child|\n",
      "|  child support|\n",
      "+---------------+\n",
      "only showing top 20 rows\n",
      "\n"
     ]
    }
   ],
   "source": [
    "# transform\n",
    "bigrams_df = words_df.withColumn(\"word_id\", monotonically_increasing_id()) \\\n",
    "                     .withColumn(\"next_word\", lead(\"word\").over(Window.orderBy(\"word_id\"))) \\\n",
    "                     .filter(col(\"next_word\").isNotNull()) \\\n",
    "                     .select(concat_ws(\" \", \"word\", \"next_word\").alias(\"bigram\"))\n",
    "\n",
    "bigrams_df.show()"
   ]
  },
  {
   "cell_type": "code",
   "execution_count": 18,
   "id": "3df78621-7813-4683-a12a-c6ae3278edf4",
   "metadata": {},
   "outputs": [
    {
     "name": "stdout",
     "output_type": "stream",
     "text": [
      "+---------------+-----+\n",
      "|         bigram|count|\n",
      "+---------------+-----+\n",
      "| eighteen years|   21|\n",
      "| years eighteen|   10|\n",
      "|      years she|    6|\n",
      "|        she got|  170|\n",
      "|        got one|   28|\n",
      "|         one of|  181|\n",
      "|        of your|  368|\n",
      "|      your kids|   26|\n",
      "|       kids got|    9|\n",
      "|        got you|  197|\n",
      "|        you for|  114|\n",
      "|   for eighteen|    2|\n",
      "|        years i|   19|\n",
      "|         i know| 2118|\n",
      "|  know somebody|    9|\n",
      "|somebody paying|    5|\n",
      "|   paying child|    5|\n",
      "|  child support|   10|\n",
      "|    support for|    5|\n",
      "|        for one|   45|\n",
      "+---------------+-----+\n",
      "only showing top 20 rows\n",
      "\n"
     ]
    }
   ],
   "source": [
    "# reduce\n",
    "bigrams_count_df = bigrams_df.groupBy(\"bigram\") \\\n",
    "                             .count()\n",
    "\n",
    "total_bigrams = bigrams_count_df.count()\n",
    "\n",
    "bigrams_count_df.show()"
   ]
  },
  {
   "cell_type": "code",
   "execution_count": 19,
   "id": "96a990e2-94b5-4c85-bd12-06029a8bd662",
   "metadata": {},
   "outputs": [],
   "source": [
    "# sort result\n",
    "bigrams_count_df = bigrams_count_df.orderBy(\"count\", ascending=False)"
   ]
  },
  {
   "cell_type": "code",
   "execution_count": 20,
   "id": "fe66ab7d-2f0e-4726-9ca6-1f2e14b644ab",
   "metadata": {},
   "outputs": [
    {
     "name": "stdout",
     "output_type": "stream",
     "text": [
      "total words: 298244\n",
      "word counts:\n",
      "+---------+-----+\n",
      "|   bigram|count|\n",
      "+---------+-----+\n",
      "|   in the| 5562|\n",
      "|    and i| 2770|\n",
      "|   on the| 2651|\n",
      "| you know| 2354|\n",
      "|  i don't| 2138|\n",
      "|   i know| 2118|\n",
      "|   to the| 2116|\n",
      "|    i got| 1831|\n",
      "|   if you| 1728|\n",
      "|   like a| 1665|\n",
      "|    in my| 1591|\n",
      "|   of the| 1571|\n",
      "|    oh oh| 1496|\n",
      "|yeah yeah| 1461|\n",
      "| what you| 1454|\n",
      "|  all the| 1440|\n",
      "|    to be| 1415|\n",
      "|    i was| 1407|\n",
      "|   that i| 1389|\n",
      "|   when i| 1377|\n",
      "+---------+-----+\n",
      "only showing top 20 rows\n",
      "\n"
     ]
    }
   ],
   "source": [
    "# show result\n",
    "print(\"total words:\", total_bigrams)\n",
    "print(\"word counts:\")\n",
    "bigrams_count_df.show()"
   ]
  },
  {
   "cell_type": "code",
   "execution_count": null,
   "id": "49e0616f-ab6e-4af0-88e5-5292c5c6ab80",
   "metadata": {},
   "outputs": [],
   "source": [
    "# stop spark\n",
    "spark.stop()"
   ]
  }
 ],
 "metadata": {
  "kernelspec": {
   "display_name": "Python 3 (ipykernel)",
   "language": "python",
   "name": "python3"
  },
  "language_info": {
   "codemirror_mode": {
    "name": "ipython",
    "version": 3
   },
   "file_extension": ".py",
   "mimetype": "text/x-python",
   "name": "python",
   "nbconvert_exporter": "python",
   "pygments_lexer": "ipython3",
   "version": "3.11.5"
  }
 },
 "nbformat": 4,
 "nbformat_minor": 5
}

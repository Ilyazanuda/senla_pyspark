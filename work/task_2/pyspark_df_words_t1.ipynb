{
 "cells": [
  {
   "cell_type": "code",
   "execution_count": 1,
   "id": "63d528b9-954e-4ea1-bb67-95202a815158",
   "metadata": {},
   "outputs": [],
   "source": [
    "# import libs\n",
    "from pyspark.sql.functions import split, explode, regexp_replace\n",
    "from pyspark.sql.types import StringType\n",
    "from pyspark.sql import SparkSession\n",
    "import zipfile\n",
    "import re"
   ]
  },
  {
   "cell_type": "code",
   "execution_count": 2,
   "id": "4980968e-c6c9-494a-9f5d-b9c3c49073e5",
   "metadata": {},
   "outputs": [],
   "source": [
    "# paths and part_date\n",
    "archive_path = '../data/archive.zip'"
   ]
  },
  {
   "cell_type": "code",
   "execution_count": 3,
   "id": "3b42fdca-7474-4386-920c-ac57b89ecee9",
   "metadata": {},
   "outputs": [],
   "source": [
    "# create spark session\n",
    "spark = SparkSession.builder.appName(\"WordCount\").getOrCreate()"
   ]
  },
  {
   "cell_type": "code",
   "execution_count": 4,
   "id": "4760daa4-546b-4a49-a4a3-9aad6d287b10",
   "metadata": {
    "scrolled": true
   },
   "outputs": [],
   "source": [
    "# create text string with all text from .txt files\n",
    "text_string = \"\"\n",
    "with zipfile.ZipFile(archive_path, 'r') as zip_file:\n",
    "    for name in zip_file.namelist():\n",
    "        if name.endswith('.txt'):\n",
    "            text_string += re.sub(r'\\s+|\\n', ' ', zip_file.read(name).decode(\"utf-8\")).lower()"
   ]
  },
  {
   "cell_type": "code",
   "execution_count": 5,
   "id": "4b24c839-9e7d-423e-a7ee-6469cc2c28b3",
   "metadata": {},
   "outputs": [
    {
     "name": "stdout",
     "output_type": "stream",
     "text": [
      "+--------------------+\n",
      "|               value|\n",
      "+--------------------+\n",
      "|﻿eighteen years e...|\n",
      "+--------------------+\n",
      "\n"
     ]
    }
   ],
   "source": [
    "# create dataframe\n",
    "words_df = spark.createDataFrame([text_string], StringType())\n",
    "words_df.show()"
   ]
  },
  {
   "cell_type": "code",
   "execution_count": 6,
   "id": "7941b38c-08d4-43fc-8a9a-f299eea4e1de",
   "metadata": {},
   "outputs": [
    {
     "name": "stdout",
     "output_type": "stream",
     "text": [
      "+--------+\n",
      "|    word|\n",
      "+--------+\n",
      "|eighteen|\n",
      "|   years|\n",
      "|eighteen|\n",
      "|   years|\n",
      "|     she|\n",
      "|     got|\n",
      "|     one|\n",
      "|      of|\n",
      "|    your|\n",
      "|    kids|\n",
      "|     got|\n",
      "|     you|\n",
      "|     for|\n",
      "|eighteen|\n",
      "|   years|\n",
      "|       i|\n",
      "|    know|\n",
      "|somebody|\n",
      "|  paying|\n",
      "|   child|\n",
      "+--------+\n",
      "only showing top 20 rows\n",
      "\n"
     ]
    }
   ],
   "source": [
    "# removes extra characters and splits the string into words\n",
    "words_df = words_df.select(explode(split(regexp_replace(\"value\", r\"[^a-zA-Z\\s']\", \"\"), \" \")).alias(\"word\"))\n",
    "words_df.show()"
   ]
  },
  {
   "cell_type": "code",
   "execution_count": 7,
   "id": "3df78621-7813-4683-a12a-c6ae3278edf4",
   "metadata": {},
   "outputs": [
    {
     "name": "stdout",
     "output_type": "stream",
     "text": [
      "+----------+-----+\n",
      "|      word|count|\n",
      "+----------+-----+\n",
      "|     still| 1828|\n",
      "|      some| 2298|\n",
      "|       few|  162|\n",
      "|     spoil|   13|\n",
      "|   lyrical|   46|\n",
      "|   jewelry|   43|\n",
      "|  tripping|   39|\n",
      "|creativity|    5|\n",
      "|     inner|   21|\n",
      "|   familia|    6|\n",
      "|      hope|  492|\n",
      "|     those|  397|\n",
      "|     trina|   14|\n",
      "|   balding|    2|\n",
      "|   degrade|    5|\n",
      "|    harder|  115|\n",
      "|   flashed|    8|\n",
      "|       art|   44|\n",
      "|     oscar|   12|\n",
      "|    poetry|   13|\n",
      "+----------+-----+\n",
      "only showing top 20 rows\n",
      "\n"
     ]
    }
   ],
   "source": [
    "# reduce\n",
    "word_count_df = words_df.groupBy(\"word\").count()\n",
    "word_count_df.show()\n",
    "total_words = word_count_df.count()"
   ]
  },
  {
   "cell_type": "code",
   "execution_count": 8,
   "id": "96a990e2-94b5-4c85-bd12-06029a8bd662",
   "metadata": {},
   "outputs": [],
   "source": [
    "# sort result\n",
    "word_count_df = word_count_df.orderBy(\"count\", ascending=False)"
   ]
  },
  {
   "cell_type": "code",
   "execution_count": 9,
   "id": "fe66ab7d-2f0e-4726-9ca6-1f2e14b644ab",
   "metadata": {},
   "outputs": [
    {
     "name": "stdout",
     "output_type": "stream",
     "text": [
      "total words: 31282\n",
      "word counts:\n",
      "+----+-----+\n",
      "|word|count|\n",
      "+----+-----+\n",
      "| the|49533|\n",
      "|   i|46410|\n",
      "| you|42288|\n",
      "| and|29414|\n",
      "|  to|26776|\n",
      "|   a|26081|\n",
      "|  me|21083|\n",
      "|  my|19506|\n",
      "|  it|17681|\n",
      "|  in|17043|\n",
      "|that|13334|\n",
      "|  on|12703|\n",
      "|  of|11525|\n",
      "|your|11378|\n",
      "| i'm|10460|\n",
      "|like| 9765|\n",
      "| all| 9359|\n",
      "|  is| 9255|\n",
      "|  be| 8663|\n",
      "|  we| 8644|\n",
      "+----+-----+\n",
      "only showing top 20 rows\n",
      "\n"
     ]
    }
   ],
   "source": [
    "# show result\n",
    "print(\"total words:\", total_words)\n",
    "print(\"word counts:\")\n",
    "word_count_df.show()"
   ]
  },
  {
   "cell_type": "code",
   "execution_count": 29,
   "id": "49e0616f-ab6e-4af0-88e5-5292c5c6ab80",
   "metadata": {},
   "outputs": [],
   "source": [
    "# stop spark\n",
    "spark.stop()"
   ]
  }
 ],
 "metadata": {
  "kernelspec": {
   "display_name": "Python 3 (ipykernel)",
   "language": "python",
   "name": "python3"
  },
  "language_info": {
   "codemirror_mode": {
    "name": "ipython",
    "version": 3
   },
   "file_extension": ".py",
   "mimetype": "text/x-python",
   "name": "python",
   "nbconvert_exporter": "python",
   "pygments_lexer": "ipython3",
   "version": "3.11.5"
  }
 },
 "nbformat": 4,
 "nbformat_minor": 5
}
